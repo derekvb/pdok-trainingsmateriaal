{
  "metadata": {
    "kernelspec": {
      "name": "xpython",
      "display_name": "Python 3.13 (XPython)",
      "language": "python"
    },
    "language_info": {
      "file_extension": ".py",
      "mimetype": "text/x-python",
      "name": "python",
      "version": "3.13.1"
    }
  },
  "nbformat_minor": 5,
  "nbformat": 4,
  "cells": [
    {
      "id": "f897f769-45d8-44f9-ac59-5e6250dff6fc",
      "cell_type": "markdown",
      "source": "dit is een stuk code",
      "metadata": {}
    },
    {
      "id": "a776954d-8df1-44d6-8e09-de51182644e7",
      "cell_type": "markdown",
      "source": "dit is een stuk markdown tekst",
      "metadata": {}
    }
  ]
}
